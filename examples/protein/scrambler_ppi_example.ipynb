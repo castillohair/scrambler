{
 "cells": [
  {
   "cell_type": "code",
   "execution_count": 4,
   "metadata": {},
   "outputs": [],
   "source": [
    "import os\n",
    "import pickle\n",
    "import numpy as np\n",
    "import pandas as pd\n",
    "\n",
    "import scipy.sparse as sp\n",
    "import scipy.io as spio\n",
    "\n",
    "import matplotlib.pyplot as plt\n",
    "\n",
    "from scrambler.models import *\n",
    "from scrambler.utils import OneHotEncoder, get_sequence_masks\n",
    "from scrambler.visualizations import plot_protein_logo, plot_protein_importance_scores\n",
    "\n",
    "from ppi_utils import load_ppi_data, load_ppi_predictor, animate_ppi_example\n"
   ]
  },
  {
   "cell_type": "code",
   "execution_count": 5,
   "metadata": {},
   "outputs": [],
   "source": [
    "predictor_path = './saved_models/ppi_rnn_baker_big_set_5x_negatives_classifier_symmetric_drop_25_5x_negatives_balanced_partitioned_data_epoch_10.hdf5'\n",
    "\n",
    "predictor = load_ppi_predictor(predictor_path)\n"
   ]
  },
  {
   "cell_type": "code",
   "execution_count": 6,
   "metadata": {},
   "outputs": [
    {
     "name": "stdout",
     "output_type": "stream",
     "text": [
      "Training set size = 40000\n",
      "Test set size = 4000\n",
      "x_1_train.shape = (40000, 1, 81, 20)\n",
      "x_2_train.shape = (40000, 1, 81, 20)\n",
      "l_1_train.shape = (40000, 1)\n",
      "l_2_train.shape = (40000, 1)\n",
      "y_train.shape = (40000, 1)\n",
      "x_1_test.shape = (4000, 1, 81, 20)\n",
      "x_2_test.shape = (4000, 1, 81, 20)\n",
      "l_1_test.shape = (4000, 1)\n",
      "l_2_test.shape = (4000, 1)\n",
      "y_test.shape = (4000, 1)\n"
     ]
    }
   ],
   "source": [
    "#Load PPI data and predictor\n",
    "\n",
    "seq_length = 81\n",
    "\n",
    "residue_map = {'D': 0, 'E': 1, 'V': 2, 'K': 3, 'R': 4, 'L': 5, 'S': 6, 'T': 7, 'N': 8, 'H': 9, 'A': 10, 'I': 11, 'G': 12, 'P': 13, 'Q': 14, 'Y': 15, 'W': 16, 'M': 17, 'F': 18, '#': 19}\n",
    "\n",
    "encoder = OneHotEncoder(seq_length, residue_map)\n",
    "\n",
    "train_data_path = 'coiled_coil_binders_big_set_train.csv'\n",
    "test_data_path = 'coiled_coil_binders_big_set_test.csv'\n",
    "\n",
    "x_1_train, x_2_train, l_1_train, l_2_train, y_train, x_1_test, x_2_test, l_1_test, l_2_test, y_test = load_ppi_data(train_data_path, test_data_path, encoder)\n",
    "\n"
   ]
  },
  {
   "cell_type": "code",
   "execution_count": 7,
   "metadata": {},
   "outputs": [],
   "source": [
    "#Define sequence template and background\n",
    "\n",
    "#Define sequence templates\n",
    "\n",
    "sequence_templates = [\n",
    "    '$' * i + '#' * (seq_length - i)\n",
    "    for i in range(seq_length+1)\n",
    "]\n",
    "\n",
    "onehot_templates = [encoder(sequence_template)[None, ...] for sequence_template in sequence_templates]\n",
    "\n",
    "sequence_masks = [\n",
    "    np.array([1 if sequence_templates[i][j] == '$' else 0 for j in range(len(sequence_templates[i]))])\n",
    "    for i in range(seq_length+1)\n",
    "]\n",
    "\n",
    "#Calculate background distributions\n",
    "\n",
    "pseudo_count = 0.1\n",
    "\n",
    "x_means = []\n",
    "for i in range(seq_length + 1) :\n",
    "    x_train_len = x_1_train[np.ravel(l_1_train) == i, ...]\n",
    "    \n",
    "    if x_train_len.shape[0] > 0 :\n",
    "        x_mean_len = (np.sum(x_train_len, axis=(0, 1)) + pseudo_count) / (np.sum(x_train_len, axis=(0, 1, 3)).reshape(-1, 1) + 20. * pseudo_count)\n",
    "        x_means.append(x_mean_len)\n",
    "    else :\n",
    "        x_means.append(np.ones((x_1_train.shape[2], x_1_train.shape[3])))\n"
   ]
  },
  {
   "cell_type": "code",
   "execution_count": null,
   "metadata": {},
   "outputs": [],
   "source": [
    "#Visualize a few background sequence distributions\n",
    "\n",
    "visualize_len = 67\n",
    "\n",
    "plot_protein_logo(residue_map, np.copy(x_means[visualize_len]), sequence_template=sequence_templates[visualize_len], figsize=(12, 1), logo_height=1.0, plot_start=0, plot_end=81)\n",
    "\n",
    "visualize_len = 72\n",
    "\n",
    "plot_protein_logo(residue_map, np.copy(x_means[visualize_len]), sequence_template=sequence_templates[visualize_len], figsize=(12, 1), logo_height=1.0, plot_start=0, plot_end=81)\n",
    "\n",
    "visualize_len = 81\n",
    "\n",
    "plot_protein_logo(residue_map, np.copy(x_means[visualize_len]), sequence_template=sequence_templates[visualize_len], figsize=(12, 1), logo_height=1.0, plot_start=0, plot_end=81)\n"
   ]
  },
  {
   "cell_type": "code",
   "execution_count": 8,
   "metadata": {},
   "outputs": [
    {
     "name": "stdout",
     "output_type": "stream",
     "text": [
      "[Length = 67] Mean KL Div against background (bits) = 1.8769757051500746\n",
      "[Length = 68] Mean KL Div against background (bits) = 2.5505041748096544\n",
      "[Length = 69] Mean KL Div against background (bits) = 2.699471320981023\n",
      "[Length = 70] Mean KL Div against background (bits) = 2.6121204921563033\n",
      "[Length = 71] Mean KL Div against background (bits) = 2.6509726755905336\n",
      "[Length = 72] Mean KL Div against background (bits) = 2.690738143222001\n",
      "[Length = 73] Mean KL Div against background (bits) = 2.6589648227143434\n",
      "[Length = 74] Mean KL Div against background (bits) = 2.738144302015652\n",
      "[Length = 75] Mean KL Div against background (bits) = 2.612163188953914\n",
      "[Length = 76] Mean KL Div against background (bits) = 2.6677961391352465\n",
      "[Length = 77] Mean KL Div against background (bits) = 2.6763279695623208\n",
      "[Length = 78] Mean KL Div against background (bits) = 2.6373699118950378\n",
      "[Length = 79] Mean KL Div against background (bits) = 2.6351997723387686\n",
      "[Length = 80] Mean KL Div against background (bits) = 2.685648188354296\n",
      "[Length = 81] Mean KL Div against background (bits) = 2.497880460813419\n"
     ]
    }
   ],
   "source": [
    "#Calculate mean training set kl-divergence against background\n",
    "\n",
    "mean_kl_divs = []\n",
    "\n",
    "for i in range(seq_length + 1) :\n",
    "    x_train_len = x_1_train[np.ravel(l_1_train) == i, ...]\n",
    "    \n",
    "    if x_train_len.shape[0] > 0 :\n",
    "        x_train_clipped_len = np.clip(np.copy(x_train_len[:, 0, :, :]), 1e-8, 1. - 1e-8)\n",
    "\n",
    "        kl_divs = np.sum(x_train_clipped_len * np.log(x_train_clipped_len / np.tile(np.expand_dims(x_means[i], axis=0), (x_train_clipped_len.shape[0], 1, 1))), axis=-1) / np.log(2.0)\n",
    "\n",
    "        x_mean_kl_divs = np.sum(kl_divs * sequence_masks[i], axis=-1) / np.sum(sequence_masks[i])\n",
    "        x_mean_kl_div = np.mean(x_mean_kl_divs)\n",
    "\n",
    "        mean_kl_divs.append(x_mean_kl_div)\n",
    "        \n",
    "        print(\"[Length = \" + str(i) + \"] Mean KL Div against background (bits) = \" + str(x_mean_kl_div))\n",
    "    else :\n",
    "        mean_kl_divs.append(0)\n"
   ]
  },
  {
   "cell_type": "code",
   "execution_count": 9,
   "metadata": {},
   "outputs": [],
   "source": [
    "#Build scrambler\n",
    "\n",
    "#Scrambler network configuration\n",
    "network_config = {\n",
    "    'n_groups' : 5,\n",
    "    'n_resblocks_per_group' : 4,\n",
    "    'n_channels' : 32,\n",
    "    'window_size' : 3,\n",
    "    'dilation_rates' : [1, 2, 4, 2, 1],\n",
    "    'drop_rate' : 0.0,\n",
    "    'norm_mode' : 'instance',\n",
    "    'mask_smoothing' : False,\n",
    "    'mask_smoothing_window_size' : 5,\n",
    "    'mask_smoothing_std' : 1.,\n",
    "    'mask_drop_scales' : [1, 5],\n",
    "    'mask_min_drop_rate' : 0.0,\n",
    "    'mask_max_drop_rate' : 0.5,\n",
    "    'label_input' : False\n",
    "}\n",
    "\n",
    "#Initialize scrambler\n",
    "scrambler = Scrambler(\n",
    "    n_inputs=2,\n",
    "    multi_input_mode='siamese',\n",
    "    scrambler_mode='occlusion',\n",
    "    input_size_x=1,\n",
    "    input_size_y=81,\n",
    "    n_out_channels=20,\n",
    "    input_templates=onehot_templates,\n",
    "    input_backgrounds=x_means,\n",
    "    batch_size=32,\n",
    "    n_samples=32,\n",
    "    sample_mode='gumbel',\n",
    "    zeropad_input=True,\n",
    "    mask_dropout=False,\n",
    "    network_config=network_config\n",
    ")\n"
   ]
  },
  {
   "cell_type": "code",
   "execution_count": 10,
   "metadata": {
    "scrolled": true
   },
   "outputs": [
    {
     "name": "stderr",
     "output_type": "stream",
     "text": [
      "/home/ubuntu/anaconda3/envs/python_3_8_tf2/lib/python3.8/site-packages/tensorflow/python/keras/engine/training.py:2325: UserWarning: `Model.state_updates` will be removed in a future version. This property should not be used in TensorFlow 2.0, as `updates` are applied automatically.\n",
      "  warnings.warn('`Model.state_updates` will be removed in a future version. '\n",
      "2021-12-09 05:11:33.579660: I tensorflow/stream_executor/platform/default/dso_loader.cc:49] Successfully opened dynamic library libcublas.so.10\n",
      "2021-12-09 05:11:34.166781: I tensorflow/stream_executor/platform/default/dso_loader.cc:49] Successfully opened dynamic library libcudnn.so.7\n"
     ]
    },
    {
     "name": "stdout",
     "output_type": "stream",
     "text": [
      "Train on 40000 samples, validate on 4000 samples\n",
      "Epoch 1/10\n",
      "40000/40000 [==============================] - 337s 8ms/sample - loss: -0.8720 - nll_loss: -0.9823 - entropy_loss: 0.1104 - val_loss: -1.0259 - val_nll_loss: -1.1231 - val_entropy_loss: 0.0972\n",
      "Epoch 2/10\n",
      " 2624/40000 [>.............................] - ETA: 4:36 - loss: -1.0327 - nll_loss: -1.1177 - entropy_loss: 0.0850"
     ]
    },
    {
     "ename": "KeyboardInterrupt",
     "evalue": "",
     "output_type": "error",
     "traceback": [
      "\u001b[0;31m---------------------------------------------------------------------------\u001b[0m",
      "\u001b[0;31mKeyboardInterrupt\u001b[0m                         Traceback (most recent call last)",
      "\u001b[0;32m/tmp/ipykernel_13679/2074572496.py\u001b[0m in \u001b[0;36m<module>\u001b[0;34m\u001b[0m\n\u001b[1;32m      3\u001b[0m \u001b[0mn_epochs\u001b[0m \u001b[0;34m=\u001b[0m \u001b[0;36m10\u001b[0m\u001b[0;34m\u001b[0m\u001b[0;34m\u001b[0m\u001b[0m\n\u001b[1;32m      4\u001b[0m \u001b[0;34m\u001b[0m\u001b[0m\n\u001b[0;32m----> 5\u001b[0;31m train_history = scrambler.train(\n\u001b[0m\u001b[1;32m      6\u001b[0m     \u001b[0mpredictor\u001b[0m\u001b[0;34m,\u001b[0m\u001b[0;34m\u001b[0m\u001b[0;34m\u001b[0m\u001b[0m\n\u001b[1;32m      7\u001b[0m     \u001b[0;34m[\u001b[0m\u001b[0mx_1_train\u001b[0m\u001b[0;34m,\u001b[0m \u001b[0mx_2_train\u001b[0m\u001b[0;34m]\u001b[0m\u001b[0;34m,\u001b[0m\u001b[0;34m\u001b[0m\u001b[0;34m\u001b[0m\u001b[0m\n",
      "\u001b[0;32m~/anaconda3/envs/python_3_8_tf2/lib/python3.8/site-packages/scrambler-0.1-py3.8.egg/scrambler/models/scrambler_models.py\u001b[0m in \u001b[0;36mtrain\u001b[0;34m(self, predictor, x_train, y_train, x_test, y_test, n_epochs, extra_input_train, extra_input_test, group_train, group_test, monitor_test_indices, monitor_batch_freq_dict, adam_lr, adam_beta_1, adam_beta_2, nll_mode, predictor_task, custom_loss_func, reference, entropy_mode, entropy_bits, entropy_weight)\u001b[0m\n\u001b[1;32m   1411\u001b[0m             \u001b[0mcallbacks\u001b[0m\u001b[0;34m.\u001b[0m\u001b[0mappend\u001b[0m\u001b[0;34m(\u001b[0m\u001b[0mmonitor\u001b[0m\u001b[0;34m)\u001b[0m\u001b[0;34m\u001b[0m\u001b[0;34m\u001b[0m\u001b[0m\n\u001b[1;32m   1412\u001b[0m \u001b[0;34m\u001b[0m\u001b[0m\n\u001b[0;32m-> 1413\u001b[0;31m         train_history = loss_model.fit(\n\u001b[0m\u001b[1;32m   1414\u001b[0m             \u001b[0mgroup_train\u001b[0m \u001b[0;34m+\u001b[0m \u001b[0mx_train\u001b[0m \u001b[0;34m+\u001b[0m \u001b[0mdrop_train\u001b[0m \u001b[0;34m+\u001b[0m \u001b[0mlabel_train\u001b[0m \u001b[0;34m+\u001b[0m \u001b[0mextra_input_train\u001b[0m\u001b[0;34m,\u001b[0m\u001b[0;34m\u001b[0m\u001b[0;34m\u001b[0m\u001b[0m\n\u001b[1;32m   1415\u001b[0m             \u001b[0;34m[\u001b[0m\u001b[0mdummy_train\u001b[0m\u001b[0;34m,\u001b[0m \u001b[0mdummy_train\u001b[0m\u001b[0;34m]\u001b[0m\u001b[0;34m,\u001b[0m\u001b[0;34m\u001b[0m\u001b[0;34m\u001b[0m\u001b[0m\n",
      "\u001b[0;32m~/anaconda3/envs/python_3_8_tf2/lib/python3.8/site-packages/tensorflow/python/keras/engine/training_v1.py\u001b[0m in \u001b[0;36mfit\u001b[0;34m(self, x, y, batch_size, epochs, verbose, callbacks, validation_split, validation_data, shuffle, class_weight, sample_weight, initial_epoch, steps_per_epoch, validation_steps, validation_freq, max_queue_size, workers, use_multiprocessing, **kwargs)\u001b[0m\n\u001b[1;32m    787\u001b[0m \u001b[0;34m\u001b[0m\u001b[0m\n\u001b[1;32m    788\u001b[0m     \u001b[0mfunc\u001b[0m \u001b[0;34m=\u001b[0m \u001b[0mself\u001b[0m\u001b[0;34m.\u001b[0m\u001b[0m_select_training_loop\u001b[0m\u001b[0;34m(\u001b[0m\u001b[0mx\u001b[0m\u001b[0;34m)\u001b[0m\u001b[0;34m\u001b[0m\u001b[0;34m\u001b[0m\u001b[0m\n\u001b[0;32m--> 789\u001b[0;31m     return func.fit(\n\u001b[0m\u001b[1;32m    790\u001b[0m         \u001b[0mself\u001b[0m\u001b[0;34m,\u001b[0m\u001b[0;34m\u001b[0m\u001b[0;34m\u001b[0m\u001b[0m\n\u001b[1;32m    791\u001b[0m         \u001b[0mx\u001b[0m\u001b[0;34m=\u001b[0m\u001b[0mx\u001b[0m\u001b[0;34m,\u001b[0m\u001b[0;34m\u001b[0m\u001b[0;34m\u001b[0m\u001b[0m\n",
      "\u001b[0;32m~/anaconda3/envs/python_3_8_tf2/lib/python3.8/site-packages/tensorflow/python/keras/engine/training_arrays_v1.py\u001b[0m in \u001b[0;36mfit\u001b[0;34m(self, model, x, y, batch_size, epochs, verbose, callbacks, validation_split, validation_data, shuffle, class_weight, sample_weight, initial_epoch, steps_per_epoch, validation_steps, validation_freq, **kwargs)\u001b[0m\n\u001b[1;32m    645\u001b[0m       \u001b[0mval_x\u001b[0m\u001b[0;34m,\u001b[0m \u001b[0mval_y\u001b[0m\u001b[0;34m,\u001b[0m \u001b[0mval_sample_weights\u001b[0m \u001b[0;34m=\u001b[0m \u001b[0;32mNone\u001b[0m\u001b[0;34m,\u001b[0m \u001b[0;32mNone\u001b[0m\u001b[0;34m,\u001b[0m \u001b[0;32mNone\u001b[0m\u001b[0;34m\u001b[0m\u001b[0;34m\u001b[0m\u001b[0m\n\u001b[1;32m    646\u001b[0m \u001b[0;34m\u001b[0m\u001b[0m\n\u001b[0;32m--> 647\u001b[0;31m     return fit_loop(\n\u001b[0m\u001b[1;32m    648\u001b[0m         \u001b[0mmodel\u001b[0m\u001b[0;34m,\u001b[0m\u001b[0;34m\u001b[0m\u001b[0;34m\u001b[0m\u001b[0m\n\u001b[1;32m    649\u001b[0m         \u001b[0minputs\u001b[0m\u001b[0;34m=\u001b[0m\u001b[0mx\u001b[0m\u001b[0;34m,\u001b[0m\u001b[0;34m\u001b[0m\u001b[0;34m\u001b[0m\u001b[0m\n",
      "\u001b[0;32m~/anaconda3/envs/python_3_8_tf2/lib/python3.8/site-packages/tensorflow/python/keras/engine/training_arrays_v1.py\u001b[0m in \u001b[0;36mmodel_iteration\u001b[0;34m(model, inputs, targets, sample_weights, batch_size, epochs, verbose, callbacks, val_inputs, val_targets, val_sample_weights, shuffle, initial_epoch, steps_per_epoch, validation_steps, validation_freq, mode, validation_in_fit, prepared_feed_values_from_dataset, steps_name, **kwargs)\u001b[0m\n\u001b[1;32m    382\u001b[0m \u001b[0;34m\u001b[0m\u001b[0m\n\u001b[1;32m    383\u001b[0m         \u001b[0;31m# Get outputs.\u001b[0m\u001b[0;34m\u001b[0m\u001b[0;34m\u001b[0m\u001b[0;34m\u001b[0m\u001b[0m\n\u001b[0;32m--> 384\u001b[0;31m         \u001b[0mbatch_outs\u001b[0m \u001b[0;34m=\u001b[0m \u001b[0mf\u001b[0m\u001b[0;34m(\u001b[0m\u001b[0mins_batch\u001b[0m\u001b[0;34m)\u001b[0m\u001b[0;34m\u001b[0m\u001b[0;34m\u001b[0m\u001b[0m\n\u001b[0m\u001b[1;32m    385\u001b[0m         \u001b[0;32mif\u001b[0m \u001b[0;32mnot\u001b[0m \u001b[0misinstance\u001b[0m\u001b[0;34m(\u001b[0m\u001b[0mbatch_outs\u001b[0m\u001b[0;34m,\u001b[0m \u001b[0mlist\u001b[0m\u001b[0;34m)\u001b[0m\u001b[0;34m:\u001b[0m\u001b[0;34m\u001b[0m\u001b[0;34m\u001b[0m\u001b[0m\n\u001b[1;32m    386\u001b[0m           \u001b[0mbatch_outs\u001b[0m \u001b[0;34m=\u001b[0m \u001b[0;34m[\u001b[0m\u001b[0mbatch_outs\u001b[0m\u001b[0;34m]\u001b[0m\u001b[0;34m\u001b[0m\u001b[0;34m\u001b[0m\u001b[0m\n",
      "\u001b[0;32m~/anaconda3/envs/python_3_8_tf2/lib/python3.8/site-packages/tensorflow/python/keras/backend.py\u001b[0m in \u001b[0;36m__call__\u001b[0;34m(self, inputs)\u001b[0m\n\u001b[1;32m   3954\u001b[0m       \u001b[0mself\u001b[0m\u001b[0;34m.\u001b[0m\u001b[0m_make_callable\u001b[0m\u001b[0;34m(\u001b[0m\u001b[0mfeed_arrays\u001b[0m\u001b[0;34m,\u001b[0m \u001b[0mfeed_symbols\u001b[0m\u001b[0;34m,\u001b[0m \u001b[0msymbol_vals\u001b[0m\u001b[0;34m,\u001b[0m \u001b[0msession\u001b[0m\u001b[0;34m)\u001b[0m\u001b[0;34m\u001b[0m\u001b[0;34m\u001b[0m\u001b[0m\n\u001b[1;32m   3955\u001b[0m \u001b[0;34m\u001b[0m\u001b[0m\n\u001b[0;32m-> 3956\u001b[0;31m     fetched = self._callable_fn(*array_vals,\n\u001b[0m\u001b[1;32m   3957\u001b[0m                                 run_metadata=self.run_metadata)\n\u001b[1;32m   3958\u001b[0m     \u001b[0mself\u001b[0m\u001b[0;34m.\u001b[0m\u001b[0m_call_fetch_callbacks\u001b[0m\u001b[0;34m(\u001b[0m\u001b[0mfetched\u001b[0m\u001b[0;34m[\u001b[0m\u001b[0;34m-\u001b[0m\u001b[0mlen\u001b[0m\u001b[0;34m(\u001b[0m\u001b[0mself\u001b[0m\u001b[0;34m.\u001b[0m\u001b[0m_fetches\u001b[0m\u001b[0;34m)\u001b[0m\u001b[0;34m:\u001b[0m\u001b[0;34m]\u001b[0m\u001b[0;34m)\u001b[0m\u001b[0;34m\u001b[0m\u001b[0;34m\u001b[0m\u001b[0m\n",
      "\u001b[0;32m~/anaconda3/envs/python_3_8_tf2/lib/python3.8/site-packages/tensorflow/python/client/session.py\u001b[0m in \u001b[0;36m__call__\u001b[0;34m(self, *args, **kwargs)\u001b[0m\n\u001b[1;32m   1478\u001b[0m       \u001b[0;32mtry\u001b[0m\u001b[0;34m:\u001b[0m\u001b[0;34m\u001b[0m\u001b[0;34m\u001b[0m\u001b[0m\n\u001b[1;32m   1479\u001b[0m         \u001b[0mrun_metadata_ptr\u001b[0m \u001b[0;34m=\u001b[0m \u001b[0mtf_session\u001b[0m\u001b[0;34m.\u001b[0m\u001b[0mTF_NewBuffer\u001b[0m\u001b[0;34m(\u001b[0m\u001b[0;34m)\u001b[0m \u001b[0;32mif\u001b[0m \u001b[0mrun_metadata\u001b[0m \u001b[0;32melse\u001b[0m \u001b[0;32mNone\u001b[0m\u001b[0;34m\u001b[0m\u001b[0;34m\u001b[0m\u001b[0m\n\u001b[0;32m-> 1480\u001b[0;31m         ret = tf_session.TF_SessionRunCallable(self._session._session,\n\u001b[0m\u001b[1;32m   1481\u001b[0m                                                \u001b[0mself\u001b[0m\u001b[0;34m.\u001b[0m\u001b[0m_handle\u001b[0m\u001b[0;34m,\u001b[0m \u001b[0margs\u001b[0m\u001b[0;34m,\u001b[0m\u001b[0;34m\u001b[0m\u001b[0;34m\u001b[0m\u001b[0m\n\u001b[1;32m   1482\u001b[0m                                                run_metadata_ptr)\n",
      "\u001b[0;31mKeyboardInterrupt\u001b[0m: "
     ]
    }
   ],
   "source": [
    "#Train scrambler\n",
    "\n",
    "n_epochs = 10\n",
    "\n",
    "train_history = scrambler.train(\n",
    "    predictor,\n",
    "    [x_1_train, x_2_train],\n",
    "    y_train,\n",
    "    [x_1_test, x_2_test],\n",
    "    y_test,\n",
    "    n_epochs,\n",
    "    group_train=[l_1_train, l_2_train],\n",
    "    group_test=[l_1_test, l_2_test],\n",
    "    monitor_test_indices=np.arange(32).tolist(),\n",
    "    monitor_batch_freq_dict={0 : 1, 100 : 5, 1250 : 10},\n",
    "    nll_mode='reconstruction',\n",
    "    predictor_task='classification',\n",
    "    entropy_mode='target',\n",
    "    entropy_bits=2.4,\n",
    "    entropy_weight=1.\n",
    ")\n"
   ]
  },
  {
   "cell_type": "code",
   "execution_count": null,
   "metadata": {},
   "outputs": [],
   "source": [
    "#Save scrambler checkpoint\n",
    "save_dir = 'saved_models'\n",
    "\n",
    "model_name = 'ppi_occlusion_scrambler_bits_24_epochs_10'\n",
    "\n",
    "if not os.path.isdir(save_dir):\n",
    "    os.makedirs(save_dir)\n",
    "\n",
    "model_path = os.path.join(save_dir, model_name + '.h5')\n",
    "\n",
    "scrambler.save_model(model_path)\n",
    "\n",
    "#Sub-select train history monitor (one example only) to save space\n",
    "for t in range(len(train_history['monitor_pwms'])) :\n",
    "    for k in range(len(train_history['monitor_pwms'][t])) :\n",
    "        train_history['monitor_pwms'][t][k] = train_history['monitor_pwms'][t][k][0:1, ...]\n",
    "        train_history['monitor_importance_scores'][t][k] = train_history['monitor_importance_scores'][t][k][0:1, ...]\n",
    "\n",
    "    train_history['monitor_nll_losses'][t] = train_history['monitor_nll_losses'][t][0:1, ...]\n",
    "    train_history['monitor_entropy_losses'][t] = train_history['monitor_entropy_losses'][t][0:1, ...]\n",
    "\n",
    "pickle.dump({'train_history' : train_history}, open(save_dir + '/' + model_name + '_train_history.pickle', 'wb'))\n"
   ]
  },
  {
   "cell_type": "code",
   "execution_count": null,
   "metadata": {},
   "outputs": [],
   "source": [
    "#Load models\n",
    "save_dir = 'saved_models'\n",
    "\n",
    "model_name = 'ppi_occlusion_scrambler_bits_24_epochs_10'\n",
    "\n",
    "if not os.path.isdir(save_dir):\n",
    "    os.makedirs(save_dir)\n",
    "\n",
    "model_path = os.path.join(save_dir, model_name + '.h5')\n",
    "\n",
    "scrambler.load_model(model_path)\n"
   ]
  },
  {
   "cell_type": "code",
   "execution_count": 3,
   "metadata": {},
   "outputs": [
    {
     "ename": "NameError",
     "evalue": "name 'train_history' is not defined",
     "output_type": "error",
     "traceback": [
      "\u001b[0;31m---------------------------------------------------------------------------\u001b[0m",
      "\u001b[0;31mNameError\u001b[0m                                 Traceback (most recent call last)",
      "\u001b[0;32m/tmp/ipykernel_4408/3253415914.py\u001b[0m in \u001b[0;36m<module>\u001b[0;34m\u001b[0m\n\u001b[1;32m      3\u001b[0m \u001b[0mf\u001b[0m\u001b[0;34m,\u001b[0m \u001b[0;34m(\u001b[0m\u001b[0max1\u001b[0m\u001b[0;34m,\u001b[0m \u001b[0max2\u001b[0m\u001b[0;34m)\u001b[0m \u001b[0;34m=\u001b[0m \u001b[0mplt\u001b[0m\u001b[0;34m.\u001b[0m\u001b[0msubplots\u001b[0m\u001b[0;34m(\u001b[0m\u001b[0;36m1\u001b[0m\u001b[0;34m,\u001b[0m \u001b[0;36m2\u001b[0m\u001b[0;34m,\u001b[0m \u001b[0mfigsize\u001b[0m\u001b[0;34m=\u001b[0m\u001b[0;34m(\u001b[0m\u001b[0;36m2\u001b[0m \u001b[0;34m*\u001b[0m \u001b[0;36m4\u001b[0m\u001b[0;34m,\u001b[0m \u001b[0;36m3\u001b[0m\u001b[0;34m)\u001b[0m\u001b[0;34m)\u001b[0m\u001b[0;34m\u001b[0m\u001b[0;34m\u001b[0m\u001b[0m\n\u001b[1;32m      4\u001b[0m \u001b[0;34m\u001b[0m\u001b[0m\n\u001b[0;32m----> 5\u001b[0;31m \u001b[0mn_epochs_actual\u001b[0m \u001b[0;34m=\u001b[0m \u001b[0mlen\u001b[0m\u001b[0;34m(\u001b[0m\u001b[0mtrain_history\u001b[0m\u001b[0;34m[\u001b[0m\u001b[0;34m'nll_loss'\u001b[0m\u001b[0;34m]\u001b[0m\u001b[0;34m)\u001b[0m\u001b[0;34m\u001b[0m\u001b[0;34m\u001b[0m\u001b[0m\n\u001b[0m\u001b[1;32m      6\u001b[0m \u001b[0;34m\u001b[0m\u001b[0m\n\u001b[1;32m      7\u001b[0m \u001b[0max1\u001b[0m\u001b[0;34m.\u001b[0m\u001b[0mplot\u001b[0m\u001b[0;34m(\u001b[0m\u001b[0mnp\u001b[0m\u001b[0;34m.\u001b[0m\u001b[0marange\u001b[0m\u001b[0;34m(\u001b[0m\u001b[0;36m1\u001b[0m\u001b[0;34m,\u001b[0m \u001b[0mn_epochs_actual\u001b[0m \u001b[0;34m+\u001b[0m \u001b[0;36m1\u001b[0m\u001b[0;34m)\u001b[0m\u001b[0;34m,\u001b[0m \u001b[0mtrain_history\u001b[0m\u001b[0;34m[\u001b[0m\u001b[0;34m'nll_loss'\u001b[0m\u001b[0;34m]\u001b[0m\u001b[0;34m,\u001b[0m \u001b[0mlinewidth\u001b[0m\u001b[0;34m=\u001b[0m\u001b[0;36m3\u001b[0m\u001b[0;34m,\u001b[0m \u001b[0mcolor\u001b[0m\u001b[0;34m=\u001b[0m\u001b[0;34m'green'\u001b[0m\u001b[0;34m)\u001b[0m\u001b[0;34m\u001b[0m\u001b[0;34m\u001b[0m\u001b[0m\n",
      "\u001b[0;31mNameError\u001b[0m: name 'train_history' is not defined"
     ]
    },
    {
     "data": {
      "image/png": "[encoded data removed]",
      "text/plain": [
       "<Figure size 576x216 with 2 Axes>"
      ]
     },
     "metadata": {
      "needs_background": "light"
     },
     "output_type": "display_data"
    }
   ],
   "source": [
    "#Plot training statistics\n",
    "\n",
    "f, (ax1, ax2) = plt.subplots(1, 2, figsize=(2 * 4, 3))\n",
    "\n",
    "n_epochs_actual = len(train_history['nll_loss'])\n",
    "\n",
    "ax1.plot(np.arange(1, n_epochs_actual + 1), train_history['nll_loss'], linewidth=3, color='green')\n",
    "ax1.plot(np.arange(1, n_epochs_actual + 1), train_history['val_nll_loss'], linewidth=3, color='orange')\n",
    "\n",
    "plt.sca(ax1)\n",
    "plt.xlabel(\"Epochs\", fontsize=14)\n",
    "plt.ylabel(\"NLL\", fontsize=14)\n",
    "plt.xlim(1, n_epochs_actual)\n",
    "plt.xticks([1, n_epochs_actual], [1, n_epochs_actual], fontsize=12)\n",
    "plt.yticks(fontsize=12)\n",
    "\n",
    "ax2.plot(np.arange(1, n_epochs_actual + 1), train_history['entropy_loss'], linewidth=3, color='green')\n",
    "ax2.plot(np.arange(1, n_epochs_actual + 1), train_history['val_entropy_loss'], linewidth=3, color='orange')\n",
    "\n",
    "plt.sca(ax2)\n",
    "plt.xlabel(\"Epochs\", fontsize=14)\n",
    "plt.ylabel(\"Entropy Loss\", fontsize=14)\n",
    "plt.xlim(1, n_epochs_actual)\n",
    "plt.xticks([1, n_epochs_actual], [1, n_epochs_actual], fontsize=12)\n",
    "plt.yticks(fontsize=12)\n",
    "\n",
    "plt.tight_layout()\n",
    "\n",
    "plt.show()\n"
   ]
  },
  {
   "cell_type": "code",
   "execution_count": 4,
   "metadata": {},
   "outputs": [
    {
     "ename": "NameError",
     "evalue": "name 'scrambler' is not defined",
     "output_type": "error",
     "traceback": [
      "\u001b[0;31m---------------------------------------------------------------------------\u001b[0m",
      "\u001b[0;31mNameError\u001b[0m                                 Traceback (most recent call last)",
      "\u001b[0;32m/tmp/ipykernel_4408/2223130497.py\u001b[0m in \u001b[0;36m<module>\u001b[0;34m\u001b[0m\n\u001b[1;32m      1\u001b[0m \u001b[0;31m#Interpret the test set using the trained scrambler\u001b[0m\u001b[0;34m\u001b[0m\u001b[0;34m\u001b[0m\u001b[0m\n\u001b[1;32m      2\u001b[0m \u001b[0;34m\u001b[0m\u001b[0m\n\u001b[0;32m----> 3\u001b[0;31m \u001b[0;34m[\u001b[0m\u001b[0mpwm_1_test\u001b[0m\u001b[0;34m,\u001b[0m \u001b[0mpwm_2_test\u001b[0m\u001b[0;34m]\u001b[0m\u001b[0;34m,\u001b[0m \u001b[0;34m[\u001b[0m\u001b[0msample_1_test\u001b[0m\u001b[0;34m,\u001b[0m \u001b[0msample_2_test\u001b[0m\u001b[0;34m]\u001b[0m\u001b[0;34m,\u001b[0m \u001b[0;34m[\u001b[0m\u001b[0mimportance_scores_1_test\u001b[0m\u001b[0;34m,\u001b[0m \u001b[0mimportance_scores_2_test\u001b[0m\u001b[0;34m]\u001b[0m \u001b[0;34m=\u001b[0m \u001b[0mscrambler\u001b[0m\u001b[0;34m.\u001b[0m\u001b[0minterpret\u001b[0m\u001b[0;34m(\u001b[0m\u001b[0;34m[\u001b[0m\u001b[0mx_1_test\u001b[0m\u001b[0;34m,\u001b[0m \u001b[0mx_2_test\u001b[0m\u001b[0;34m]\u001b[0m\u001b[0;34m,\u001b[0m \u001b[0mgroup\u001b[0m\u001b[0;34m=\u001b[0m\u001b[0;34m[\u001b[0m\u001b[0ml_1_test\u001b[0m\u001b[0;34m,\u001b[0m \u001b[0ml_2_test\u001b[0m\u001b[0;34m]\u001b[0m\u001b[0;34m)\u001b[0m\u001b[0;34m\u001b[0m\u001b[0;34m\u001b[0m\u001b[0m\n\u001b[0m",
      "\u001b[0;31mNameError\u001b[0m: name 'scrambler' is not defined"
     ]
    }
   ],
   "source": [
    "#Interpret the test set using the trained scrambler\n",
    "\n",
    "[pwm_1_test, pwm_2_test], [sample_1_test, sample_2_test], [importance_scores_1_test, importance_scores_2_test] = scrambler.interpret([x_1_test, x_2_test], group=[l_1_test, l_2_test])\n"
   ]
  },
  {
   "cell_type": "code",
   "execution_count": 11,
   "metadata": {},
   "outputs": [
    {
     "name": "stdout",
     "output_type": "stream",
     "text": [
      "Test pair 0:\n",
      " - Prediction (original) = 0.85\n",
      " - Predictions (scrambled) = [0.09, 0.0, 0.0, 0.0, 0.01, 0.0, 0.0, 0.0, 0.0, 0.03, 0.09, 0.01, 0.0, 0.0, 0.04, 0.0, 0.15, 0.02, 0.0, 0.0, 0.0, 0.0, 0.0, 0.0, 0.01, 0.0, 0.0, 0.01, 0.0, 0.01, 0.0, 0.01]\n",
      "Binder 1:\n"
     ]
    },
    {
     "data": {
      "image/png": "[encoded data removed]",
      "text/plain": [
       "<Figure size 864x72 with 1 Axes>"
      ]
     },
     "metadata": {},
     "output_type": "display_data"
    },
    {
     "data": {
      "image/png": "[encoded data removed]",
      "text/plain": [
       "<Figure size 864x72 with 1 Axes>"
      ]
     },
     "metadata": {},
     "output_type": "display_data"
    },
    {
     "data": {
      "image/png": "[encoded data removed]",
      "text/plain": [
       "<Figure size 864x72 with 1 Axes>"
      ]
     },
     "metadata": {},
     "output_type": "display_data"
    },
    {
     "name": "stdout",
     "output_type": "stream",
     "text": [
      "Binder 2:\n"
     ]
    },
    {
     "data": {
      "image/png": "[encoded data removed]",
      "text/plain": [
       "<Figure size 864x72 with 1 Axes>"
      ]
     },
     "metadata": {},
     "output_type": "display_data"
    },
    {
     "data": {
      "image/png": "[encoded data removed]",
      "text/plain": [
       "<Figure size 864x72 with 1 Axes>"
      ]
     },
     "metadata": {},
     "output_type": "display_data"
    },
    {
     "data": {
      "image/png": "[encoded data removed]",
      "text/plain": [
       "<Figure size 864x72 with 1 Axes>"
      ]
     },
     "metadata": {},
     "output_type": "display_data"
    }
   ],
   "source": [
    "#Visualize a few reconstructed sequence patterns\n",
    "\n",
    "#Color by ground truth hbnet positions for test pair 0\n",
    "special_sequence_template_1 = (\"TAEELLEV$KK$DRV$KE$LRV$EEILKVVEVLTRGEVSSEVLKRVLRKLEELTDKLRRV$EE$RRVVEKLN\" + \"#\" * 81)[:81]\n",
    "special_sequence_template_2 = (\"DLEDLLRRLRRLVDE$RRLVEELERV$RRLEKAVRDNEDERELARL$RE$$DI$DK$DKLAREILEVLKRLLERTE\" + \"#\" * 81)[:81]\n",
    "\n",
    "score_quantile = 0.95\n",
    "\n",
    "plot_examples = [0]\n",
    "save_examples = []\n",
    "\n",
    "for test_ix in plot_examples :\n",
    "    \n",
    "    pwm_1_curr = pwm_1_test[test_ix:test_ix+1, ...] * sequence_masks[l_1_test[test_ix, 0]][None, None, :, None]\n",
    "    pwm_2_curr = pwm_2_test[test_ix:test_ix+1, ...] * sequence_masks[l_2_test[test_ix, 0]][None, None, :, None]\n",
    "    \n",
    "    importance_scores_1_curr = importance_scores_1_test[test_ix:test_ix+1, ...] * sequence_masks[l_1_test[test_ix, 0]][None, None, :, None]\n",
    "    importance_scores_2_curr = importance_scores_2_test[test_ix:test_ix+1, ...] * sequence_masks[l_2_test[test_ix, 0]][None, None, :, None]\n",
    "    \n",
    "    print(\"Test pair \" + str(test_ix) + \":\")\n",
    "    \n",
    "    y_test_hat_ref = predictor.predict(x=[x_1_test[test_ix:test_ix+1, ...], x_2_test[test_ix:test_ix+1, ...]], batch_size=1)[0, 0]\n",
    "    y_test_hat = predictor.predict(x=[sample_1_test[test_ix, ...], sample_2_test[test_ix, ...]], batch_size=32)[:32, 0].tolist()\n",
    "    \n",
    "    print(\" - Prediction (original) = \" + str(round(y_test_hat_ref, 2))[:4])\n",
    "    print(\" - Predictions (scrambled) = \" + str([float(str(round(y_test_hat[i], 2))[:4]) for i in range(len(y_test_hat))]))\n",
    "    \n",
    "    save_figs = False\n",
    "    if save_examples is not None and test_ix in save_examples :\n",
    "        save_figs = True\n",
    "    \n",
    "    sequence_template_1 = sequence_templates[l_1_test[test_ix, 0]]\n",
    "    sequence_template_2 = sequence_templates[l_2_test[test_ix, 0]]\n",
    "    if special_sequence_template_1 is not None :\n",
    "        sequence_template_1 = special_sequence_template_1\n",
    "        sequence_template_2 = special_sequence_template_2\n",
    "    \n",
    "    q_1 = np.quantile(importance_scores_1_curr[0, 0, :, :], q=score_quantile)\n",
    "    q_2 = np.quantile(importance_scores_2_curr[0, 0, :, :], q=score_quantile)\n",
    "    \n",
    "    seq_1 = encoder.decode(x_1_test[test_ix, 0, :, :])[:l_1_test[test_ix, 0]]\n",
    "    seq_2 = encoder.decode(x_2_test[test_ix, 0, :, :])[:l_2_test[test_ix, 0]]\n",
    "    \n",
    "    print(\"Binder 1:\")\n",
    "\n",
    "    plot_protein_logo(residue_map, x_1_test[test_ix, 0, :, :], sequence_template=sequence_template_1.replace('#', '@'), color_reference=['red'], sequence_colors=np.zeros(81, dtype=np.int).tolist(), figsize=(12, 1), plot_start=0, plot_end=81, save_figs=save_figs, fig_name=model_name + \"_test_ix_\" + str(test_ix) + \"_orig_sequence_binder_1\")\n",
    "    plot_protein_logo(residue_map, pwm_1_curr[0, 0, :, :], sequence_template=sequence_template_1.replace('#', '@'), color_reference=['red'], sequence_colors=np.zeros(81, dtype=np.int).tolist(), figsize=(12, 1), plot_start=0, plot_end=81, save_figs=save_figs, fig_name=model_name + \"_test_ix_\" + str(test_ix) + \"_scrambld_pwm_binder_1\")\n",
    "    plot_protein_importance_scores(importance_scores_1_curr[0, 0, :, :].T, seq_1, figsize=(12, 1), score_clip=q_1, sequence_template=sequence_template_1, single_color='red', fixed_sequence_template_scores=False, plot_start=0, plot_end=81, save_figs=save_figs, fig_name=model_name + \"_test_ix_\" + str(test_ix) + \"_scores_binder_1\")\n",
    "\n",
    "    print(\"Binder 2:\")\n",
    "\n",
    "    plot_protein_logo(residue_map, x_2_test[test_ix, 0, :, :], sequence_template=sequence_template_2.replace('#', '@'), color_reference=['red'], sequence_colors=np.zeros(81, dtype=np.int).tolist(), figsize=(12, 1), plot_start=0, plot_end=81, save_figs=save_figs, fig_name=model_name + \"_test_ix_\" + str(test_ix) + \"_orig_sequence_binder_2\")\n",
    "    plot_protein_logo(residue_map, pwm_2_curr[0, 0, :, :], sequence_template=sequence_template_2.replace('#', '@'), color_reference=['red'], sequence_colors=np.zeros(81, dtype=np.int).tolist(), figsize=(12, 1), plot_start=0, plot_end=81, save_figs=save_figs, fig_name=model_name + \"_test_ix_\" + str(test_ix) + \"_scrambld_pwm_binder_2\")\n",
    "    plot_protein_importance_scores(importance_scores_2_curr[0, 0, :, :].T, seq_2, figsize=(12, 1), score_clip=q_2, sequence_template=sequence_template_2, single_color='red', fixed_sequence_template_scores=False, plot_start=0, plot_end=81, save_figs=save_figs, fig_name=model_name + \"_test_ix_\" + str(test_ix) + \"_scores_binder_2\")\n"
   ]
  },
  {
   "cell_type": "code",
   "execution_count": null,
   "metadata": {},
   "outputs": [],
   "source": []
  }
 ],
 "metadata": {
  "kernelspec": {
   "display_name": "py38_tf2",
   "language": "python",
   "name": "py38_tf2"
  },
  "language_info": {
   "codemirror_mode": {
    "name": "ipython",
    "version": 3
   },
   "file_extension": ".py",
   "mimetype": "text/x-python",
   "name": "python",
   "nbconvert_exporter": "python",
   "pygments_lexer": "ipython3",
   "version": "3.8.12"
  }
 },
 "nbformat": 4,
 "nbformat_minor": 2
}
