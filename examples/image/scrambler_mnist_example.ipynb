{
 "cells": [
  {
   "cell_type": "code",
   "execution_count": 1,
   "metadata": {},
   "outputs": [
    {
     "name": "stderr",
     "output_type": "stream",
     "text": [
      "2021-12-09 07:09:19.153294: I tensorflow/stream_executor/platform/default/dso_loader.cc:49] Successfully opened dynamic library libcudart.so.10.1\n"
     ]
    },
    {
     "name": "stdout",
     "output_type": "stream",
     "text": [
      "WARNING:tensorflow:From /home/ubuntu/anaconda3/envs/python_3_8_tf2/lib/python3.8/site-packages/tensorflow/python/compat/v2_compat.py:96: disable_resource_variables (from tensorflow.python.ops.variable_scope) is deprecated and will be removed in a future version.\n",
      "Instructions for updating:\n",
      "non-resource variables are not supported in the long term\n"
     ]
    },
    {
     "name": "stderr",
     "output_type": "stream",
     "text": [
      "2021-12-09 07:09:21.755753: I tensorflow/core/platform/cpu_feature_guard.cc:142] This TensorFlow binary is optimized with oneAPI Deep Neural Network Library (oneDNN) to use the following CPU instructions in performance-critical operations:  SSE4.1 SSE4.2 AVX AVX2 FMA\n",
      "To enable them in other operations, rebuild TensorFlow with the appropriate compiler flags.\n",
      "2021-12-09 07:09:21.757833: I tensorflow/stream_executor/platform/default/dso_loader.cc:49] Successfully opened dynamic library libcuda.so.1\n",
      "2021-12-09 07:09:21.786087: I tensorflow/stream_executor/cuda/cuda_gpu_executor.cc:941] successful NUMA node read from SysFS had negative value (-1), but there must be at least one NUMA node, so returning NUMA node zero\n",
      "2021-12-09 07:09:21.787027: I tensorflow/core/common_runtime/gpu/gpu_device.cc:1720] Found device 0 with properties: \n",
      "pciBusID: 0000:00:1e.0 name: Tesla V100-SXM2-16GB computeCapability: 7.0\n",
      "coreClock: 1.53GHz coreCount: 80 deviceMemorySize: 15.78GiB deviceMemoryBandwidth: 836.37GiB/s\n",
      "2021-12-09 07:09:21.787075: I tensorflow/stream_executor/platform/default/dso_loader.cc:49] Successfully opened dynamic library libcudart.so.10.1\n",
      "2021-12-09 07:09:21.789891: I tensorflow/stream_executor/platform/default/dso_loader.cc:49] Successfully opened dynamic library libcublas.so.10\n",
      "2021-12-09 07:09:21.789973: I tensorflow/stream_executor/platform/default/dso_loader.cc:49] Successfully opened dynamic library libcublasLt.so.10\n",
      "2021-12-09 07:09:21.792293: I tensorflow/stream_executor/platform/default/dso_loader.cc:49] Successfully opened dynamic library libcufft.so.10\n",
      "2021-12-09 07:09:21.792729: I tensorflow/stream_executor/platform/default/dso_loader.cc:49] Successfully opened dynamic library libcurand.so.10\n",
      "2021-12-09 07:09:21.795132: I tensorflow/stream_executor/platform/default/dso_loader.cc:49] Successfully opened dynamic library libcusolver.so.10\n",
      "2021-12-09 07:09:21.796506: I tensorflow/stream_executor/platform/default/dso_loader.cc:49] Successfully opened dynamic library libcusparse.so.10\n",
      "2021-12-09 07:09:21.801610: I tensorflow/stream_executor/platform/default/dso_loader.cc:49] Successfully opened dynamic library libcudnn.so.7\n",
      "2021-12-09 07:09:21.801816: I tensorflow/stream_executor/cuda/cuda_gpu_executor.cc:941] successful NUMA node read from SysFS had negative value (-1), but there must be at least one NUMA node, so returning NUMA node zero\n",
      "2021-12-09 07:09:21.802761: I tensorflow/stream_executor/cuda/cuda_gpu_executor.cc:941] successful NUMA node read from SysFS had negative value (-1), but there must be at least one NUMA node, so returning NUMA node zero\n",
      "2021-12-09 07:09:21.803617: I tensorflow/core/common_runtime/gpu/gpu_device.cc:1862] Adding visible gpu devices: 0\n",
      "2021-12-09 07:09:21.803710: I tensorflow/stream_executor/platform/default/dso_loader.cc:49] Successfully opened dynamic library libcudart.so.10.1\n",
      "2021-12-09 07:09:22.768663: I tensorflow/core/common_runtime/gpu/gpu_device.cc:1261] Device interconnect StreamExecutor with strength 1 edge matrix:\n",
      "2021-12-09 07:09:22.768720: I tensorflow/core/common_runtime/gpu/gpu_device.cc:1267]      0 \n",
      "2021-12-09 07:09:22.768734: I tensorflow/core/common_runtime/gpu/gpu_device.cc:1280] 0:   N \n",
      "2021-12-09 07:09:22.769089: I tensorflow/stream_executor/cuda/cuda_gpu_executor.cc:941] successful NUMA node read from SysFS had negative value (-1), but there must be at least one NUMA node, so returning NUMA node zero\n",
      "2021-12-09 07:09:22.770008: I tensorflow/stream_executor/cuda/cuda_gpu_executor.cc:941] successful NUMA node read from SysFS had negative value (-1), but there must be at least one NUMA node, so returning NUMA node zero\n",
      "2021-12-09 07:09:22.770895: I tensorflow/stream_executor/cuda/cuda_gpu_executor.cc:941] successful NUMA node read from SysFS had negative value (-1), but there must be at least one NUMA node, so returning NUMA node zero\n",
      "2021-12-09 07:09:22.771735: I tensorflow/core/common_runtime/gpu/gpu_device.cc:1406] Created TensorFlow device (/job:localhost/replica:0/task:0/device:GPU:0 with 12237 MB memory) -> physical GPU (device: 0, name: Tesla V100-SXM2-16GB, pci bus id: 0000:00:1e.0, compute capability: 7.0)\n",
      "2021-12-09 07:09:22.772136: I tensorflow/compiler/jit/xla_gpu_device.cc:99] Not creating XLA devices, tf_xla_enable_xla_devices not set\n"
     ]
    }
   ],
   "source": [
    "from tensorflow.keras.models import Sequential, Model, load_model\n",
    "\n",
    "import os\n",
    "import pickle\n",
    "import numpy as np\n",
    "import pandas as pd\n",
    "\n",
    "import scipy.sparse as sp\n",
    "import scipy.io as spio\n",
    "\n",
    "import matplotlib.pyplot as plt\n",
    "\n",
    "from scrambler.models import *\n",
    "\n",
    "from mnist_utils import load_mnist_data, load_mnist_predictor, animate_mnist_examples\n"
   ]
  },
  {
   "cell_type": "code",
   "execution_count": 2,
   "metadata": {},
   "outputs": [
    {
     "name": "stdout",
     "output_type": "stream",
     "text": [
      "n train samples = 11552\n",
      "n test samples = 1888\n",
      "x_train.shape = (11552, 28, 28, 2)\n"
     ]
    },
    {
     "name": "stderr",
     "output_type": "stream",
     "text": [
      "2021-12-09 07:09:23.579020: I tensorflow/compiler/mlir/mlir_graph_optimization_pass.cc:196] None of the MLIR optimization passes are enabled (registered 0 passes)\n",
      "2021-12-09 07:09:23.600406: I tensorflow/core/platform/profile_utils/cpu_utils.cc:112] CPU Frequency: 2300000000 Hz\n"
     ]
    }
   ],
   "source": [
    "#Load MNIST data\n",
    "\n",
    "x_train, y_train, x_test, y_test = load_mnist_data()\n",
    "\n",
    "#Load MNIST predictor\n",
    "\n",
    "predictor_path = 'saved_models/mnist_binarized_cnn_10_digits.h5'\n",
    "predictor = load_mnist_predictor(predictor_path)\n"
   ]
  },
  {
   "cell_type": "code",
   "execution_count": 3,
   "metadata": {},
   "outputs": [],
   "source": [
    "#Calculate background\n",
    "\n",
    "pseudo_count = 1.0\n",
    "\n",
    "x_mean = (np.sum(x_train, axis=0) + pseudo_count) / (x_train.shape[0] + 2. * pseudo_count)\n"
   ]
  },
  {
   "cell_type": "code",
   "execution_count": 4,
   "metadata": {},
   "outputs": [
    {
     "data": {
      "image/png": "[encoded data removed]",
      "text/plain": [
       "<Figure size 288x288 with 1 Axes>"
      ]
     },
     "metadata": {},
     "output_type": "display_data"
    }
   ],
   "source": [
    "#Visualize background image distribution\n",
    "\n",
    "f = plt.figure(figsize=(4, 4))\n",
    "\n",
    "plot_ix = 0\n",
    "\n",
    "plt.imshow(x_mean[..., 1], cmap=\"Greys\", vmin=0.0, vmax=1.0, aspect='equal')\n",
    "\n",
    "plt.xticks([], [])\n",
    "plt.yticks([], [])\n",
    "\n",
    "plt.tight_layout()\n",
    "plt.show()\n"
   ]
  },
  {
   "cell_type": "code",
   "execution_count": 5,
   "metadata": {},
   "outputs": [
    {
     "name": "stdout",
     "output_type": "stream",
     "text": [
      "Mean KL Div against background (bits) = 0.36095130083827087\n"
     ]
    }
   ],
   "source": [
    "#Calculate mean training set kl-divergence against background\n",
    "\n",
    "x_train_clipped = np.clip(np.copy(x_train), 1e-8, 1. - 1e-8)\n",
    "\n",
    "kl_divs = np.sum(x_train_clipped * np.log(x_train_clipped / np.tile(np.expand_dims(x_mean, axis=0), (x_train_clipped.shape[0], 1, 1, 1))), axis=-1) / np.log(2.0)\n",
    "\n",
    "x_mean_kl_divs = np.mean(kl_divs, axis=(1, 2))\n",
    "x_mean_kl_div = np.mean(x_mean_kl_divs)\n",
    "\n",
    "print(\"Mean KL Div against background (bits) = \" + str(x_mean_kl_div))\n"
   ]
  },
  {
   "cell_type": "code",
   "execution_count": 6,
   "metadata": {},
   "outputs": [],
   "source": [
    "#Define image template\n",
    "\n",
    "onehot_template = np.zeros(x_mean.shape)\n"
   ]
  },
  {
   "cell_type": "code",
   "execution_count": 7,
   "metadata": {},
   "outputs": [],
   "source": [
    "#Build scrambler\n",
    "\n",
    "#Scrambler network configuration\n",
    "network_config = {\n",
    "    'n_groups' : 5,\n",
    "    'n_resblocks_per_group' : 4,\n",
    "    'n_channels' : 32,\n",
    "    'window_size' : 3,\n",
    "    'dilation_rates' : [1, 2, 4, 2, 1],\n",
    "    'drop_rate' : 0.0,\n",
    "    'norm_mode' : 'instance',\n",
    "    'mask_smoothing' : False,\n",
    "    'mask_smoothing_window_size' : 7,\n",
    "    'mask_smoothing_std' : 1.5,\n",
    "    'mask_drop_scales' : [1, 5],\n",
    "    'mask_min_drop_rate' : 0.0,\n",
    "    'mask_max_drop_rate' : 0.5,\n",
    "    'label_input' : False\n",
    "}\n",
    "\n",
    "#Initialize scrambler\n",
    "scrambler = Scrambler(\n",
    "    scrambler_mode='inclusion',\n",
    "    n_classes=10,\n",
    "    input_size_x=28,\n",
    "    input_size_y=28,\n",
    "    n_out_channels=2,\n",
    "    input_templates=[onehot_template],\n",
    "    input_backgrounds=[x_mean],\n",
    "    batch_size=32,\n",
    "    n_samples=32,\n",
    "    sample_mode='st',\n",
    "    zeropad_input=False,\n",
    "    mask_dropout=False,\n",
    "    network_config=network_config\n",
    ")\n"
   ]
  },
  {
   "cell_type": "code",
   "execution_count": 8,
   "metadata": {
    "scrolled": false
   },
   "outputs": [
    {
     "name": "stderr",
     "output_type": "stream",
     "text": [
      "/home/ubuntu/anaconda3/envs/python_3_8_tf2/lib/python3.8/site-packages/tensorflow/python/keras/engine/training.py:2325: UserWarning: `Model.state_updates` will be removed in a future version. This property should not be used in TensorFlow 2.0, as `updates` are applied automatically.\n",
      "  warnings.warn('`Model.state_updates` will be removed in a future version. '\n",
      "2021-12-09 07:09:30.850281: I tensorflow/stream_executor/platform/default/dso_loader.cc:49] Successfully opened dynamic library libcublas.so.10\n",
      "2021-12-09 07:09:31.203038: I tensorflow/stream_executor/platform/default/dso_loader.cc:49] Successfully opened dynamic library libcudnn.so.7\n"
     ]
    },
    {
     "name": "stdout",
     "output_type": "stream",
     "text": [
      "Train on 11552 samples, validate on 1888 samples\n",
      "Epoch 1/10\n",
      "11552/11552 [==============================] - 61s 5ms/sample - loss: 1.8831 - nll_loss: 1.5163 - entropy_loss: 0.3668 - val_loss: 0.7817 - val_nll_loss: 0.6347 - val_entropy_loss: 0.1470\n",
      "Epoch 2/10\n",
      "11552/11552 [==============================] - 53s 5ms/sample - loss: 1.1405 - nll_loss: 1.0087 - entropy_loss: 0.1318 - val_loss: 0.7047 - val_nll_loss: 0.6104 - val_entropy_loss: 0.0943\n",
      "Epoch 3/10\n",
      "11552/11552 [==============================] - 53s 5ms/sample - loss: 1.0355 - nll_loss: 0.9049 - entropy_loss: 0.1306 - val_loss: 0.6246 - val_nll_loss: 0.4812 - val_entropy_loss: 0.1435\n",
      "Epoch 4/10\n",
      "11552/11552 [==============================] - 54s 5ms/sample - loss: 0.9659 - nll_loss: 0.8376 - entropy_loss: 0.1283 - val_loss: 0.5948 - val_nll_loss: 0.4974 - val_entropy_loss: 0.0975\n",
      "Epoch 5/10\n",
      "11552/11552 [==============================] - 49s 4ms/sample - loss: 0.9153 - nll_loss: 0.7925 - entropy_loss: 0.1228 - val_loss: 0.5471 - val_nll_loss: 0.4408 - val_entropy_loss: 0.1063\n",
      "Epoch 6/10\n",
      "11552/11552 [==============================] - 38s 3ms/sample - loss: 0.8884 - nll_loss: 0.7681 - entropy_loss: 0.1203 - val_loss: 0.5446 - val_nll_loss: 0.4586 - val_entropy_loss: 0.0860\n",
      "Epoch 7/10\n",
      "11552/11552 [==============================] - 38s 3ms/sample - loss: 0.8827 - nll_loss: 0.7664 - entropy_loss: 0.1163 - val_loss: 0.5161 - val_nll_loss: 0.4048 - val_entropy_loss: 0.1114\n",
      "Epoch 8/10\n",
      "11552/11552 [==============================] - 39s 3ms/sample - loss: 0.8619 - nll_loss: 0.7471 - entropy_loss: 0.1148 - val_loss: 0.5250 - val_nll_loss: 0.4458 - val_entropy_loss: 0.0792\n",
      "Epoch 9/10\n",
      "11552/11552 [==============================] - 38s 3ms/sample - loss: 0.8356 - nll_loss: 0.7226 - entropy_loss: 0.1131 - val_loss: 0.4790 - val_nll_loss: 0.3386 - val_entropy_loss: 0.1404\n",
      "Epoch 10/10\n",
      "11552/11552 [==============================] - 38s 3ms/sample - loss: 0.8134 - nll_loss: 0.7019 - entropy_loss: 0.1115 - val_loss: 0.4926 - val_nll_loss: 0.3044 - val_entropy_loss: 0.1883\n"
     ]
    }
   ],
   "source": [
    "#Train scrambler\n",
    "\n",
    "n_epochs = 10\n",
    "\n",
    "train_history = scrambler.train(\n",
    "    predictor,\n",
    "    x_train,\n",
    "    y_train,\n",
    "    x_test,\n",
    "    y_test,\n",
    "    n_epochs,\n",
    "    monitor_test_indices=np.arange(32).tolist(),\n",
    "    monitor_batch_freq_dict={0 : 1, 100 : 5, 361 : 10},\n",
    "    nll_mode='reconstruction',\n",
    "    predictor_task='classification',\n",
    "    entropy_mode='target',\n",
    "    entropy_bits=0.005,\n",
    "    entropy_weight=1200.\n",
    ")\n"
   ]
  },
  {
   "cell_type": "code",
   "execution_count": 9,
   "metadata": {},
   "outputs": [
    {
     "name": "stdout",
     "output_type": "stream",
     "text": [
      "Saved scrambler model at saved_models/mnist_inclusion_scrambler_target_bits_0005_epochs_10.h5 \n"
     ]
    }
   ],
   "source": [
    "#Save scrambler checkpoint\n",
    "save_dir = 'saved_models'\n",
    "\n",
    "model_name = 'mnist_inclusion_scrambler_target_bits_0005_epochs_10'\n",
    "\n",
    "if not os.path.isdir(save_dir):\n",
    "    os.makedirs(save_dir)\n",
    "\n",
    "model_path = os.path.join(save_dir, model_name + '.h5')\n",
    "\n",
    "scrambler.save_model(model_path)\n",
    "\n",
    "pickle.dump({'train_history' : train_history}, open(save_dir + '/' + model_name + '_train_history.pickle', 'wb'))\n"
   ]
  },
  {
   "cell_type": "code",
   "execution_count": 10,
   "metadata": {},
   "outputs": [
    {
     "name": "stdout",
     "output_type": "stream",
     "text": [
      "Loaded scrambler model from saved_models/mnist_inclusion_scrambler_target_bits_0005_epochs_10.h5 \n"
     ]
    }
   ],
   "source": [
    "#Load models\n",
    "save_dir = 'saved_models'\n",
    "\n",
    "model_name = 'mnist_inclusion_scrambler_target_bits_0005_epochs_10'\n",
    "\n",
    "if not os.path.isdir(save_dir):\n",
    "    os.makedirs(save_dir)\n",
    "\n",
    "model_path = os.path.join(save_dir, model_name + '.h5')\n",
    "\n",
    "scrambler.load_model(model_path)\n"
   ]
  },
  {
   "cell_type": "code",
   "execution_count": 11,
   "metadata": {},
   "outputs": [
    {
     "data": {
      "image/png": "[encoded data removed]",
      "text/plain": [
       "<Figure size 576x216 with 2 Axes>"
      ]
     },
     "metadata": {
      "needs_background": "light"
     },
     "output_type": "display_data"
    }
   ],
   "source": [
    "#Plot training statistics\n",
    "\n",
    "f, (ax1, ax2) = plt.subplots(1, 2, figsize=(2 * 4, 3))\n",
    "\n",
    "n_epochs_actual = len(train_history['nll_loss'])\n",
    "\n",
    "ax1.plot(np.arange(1, n_epochs_actual + 1), train_history['nll_loss'], linewidth=3, color='green')\n",
    "ax1.plot(np.arange(1, n_epochs_actual + 1), train_history['val_nll_loss'], linewidth=3, color='orange')\n",
    "\n",
    "plt.sca(ax1)\n",
    "plt.xlabel(\"Epochs\", fontsize=14)\n",
    "plt.ylabel(\"NLL\", fontsize=14)\n",
    "plt.xlim(1, n_epochs_actual)\n",
    "plt.xticks([1, n_epochs_actual], [1, n_epochs_actual], fontsize=12)\n",
    "plt.yticks(fontsize=12)\n",
    "\n",
    "ax2.plot(np.arange(1, n_epochs_actual + 1), train_history['entropy_loss'], linewidth=3, color='green')\n",
    "ax2.plot(np.arange(1, n_epochs_actual + 1), train_history['val_entropy_loss'], linewidth=3, color='orange')\n",
    "\n",
    "plt.sca(ax2)\n",
    "plt.xlabel(\"Epochs\", fontsize=14)\n",
    "plt.ylabel(\"Entropy Loss\", fontsize=14)\n",
    "plt.xlim(1, n_epochs_actual)\n",
    "plt.xticks([1, n_epochs_actual], [1, n_epochs_actual], fontsize=12)\n",
    "plt.yticks(fontsize=12)\n",
    "\n",
    "plt.tight_layout()\n",
    "\n",
    "plt.show()\n"
   ]
  },
  {
   "cell_type": "code",
   "execution_count": 12,
   "metadata": {},
   "outputs": [],
   "source": [
    "#Interpret the test set using the trained scrambler\n",
    "\n",
    "image_test, sample_test, importance_scores_test = scrambler.interpret(x_test)\n"
   ]
  },
  {
   "cell_type": "code",
   "execution_count": 13,
   "metadata": {
    "scrolled": true
   },
   "outputs": [
    {
     "name": "stdout",
     "output_type": "stream",
     "text": [
      "Test image 0:\n"
     ]
    },
    {
     "data": {
      "image/png": "[encoded data removed]",
      "text/plain": [
       "<Figure size 432x108 with 4 Axes>"
      ]
     },
     "metadata": {},
     "output_type": "display_data"
    },
    {
     "name": "stdout",
     "output_type": "stream",
     "text": [
      "Test image 1:\n"
     ]
    },
    {
     "data": {
      "image/png": "[encoded data removed]",
      "text/plain": [
       "<Figure size 432x108 with 4 Axes>"
      ]
     },
     "metadata": {},
     "output_type": "display_data"
    },
    {
     "name": "stdout",
     "output_type": "stream",
     "text": [
      "Test image 2:\n"
     ]
    },
    {
     "data": {
      "image/png": "[encoded data removed]",
      "text/plain": [
       "<Figure size 432x108 with 4 Axes>"
      ]
     },
     "metadata": {},
     "output_type": "display_data"
    },
    {
     "name": "stdout",
     "output_type": "stream",
     "text": [
      "Test image 3:\n"
     ]
    },
    {
     "data": {
      "image/png": "[encoded data removed]",
      "text/plain": [
       "<Figure size 432x108 with 4 Axes>"
      ]
     },
     "metadata": {},
     "output_type": "display_data"
    },
    {
     "name": "stdout",
     "output_type": "stream",
     "text": [
      "Test image 4:\n"
     ]
    },
    {
     "data": {
      "image/png": "[encoded data removed]",
      "text/plain": [
       "<Figure size 432x108 with 4 Axes>"
      ]
     },
     "metadata": {},
     "output_type": "display_data"
    },
    {
     "name": "stdout",
     "output_type": "stream",
     "text": [
      "Test image 5:\n"
     ]
    },
    {
     "data": {
      "image/png": "[encoded data removed]",
      "text/plain": [
       "<Figure size 432x108 with 4 Axes>"
      ]
     },
     "metadata": {},
     "output_type": "display_data"
    },
    {
     "name": "stdout",
     "output_type": "stream",
     "text": [
      "Test image 6:\n"
     ]
    },
    {
     "data": {
      "image/png": "[encoded data removed]",
      "text/plain": [
       "<Figure size 432x108 with 4 Axes>"
      ]
     },
     "metadata": {},
     "output_type": "display_data"
    },
    {
     "name": "stdout",
     "output_type": "stream",
     "text": [
      "Test image 7:\n"
     ]
    },
    {
     "data": {
      "image/png": "[encoded data removed]",
      "text/plain": [
       "<Figure size 432x108 with 4 Axes>"
      ]
     },
     "metadata": {},
     "output_type": "display_data"
    },
    {
     "name": "stdout",
     "output_type": "stream",
     "text": [
      "Test image 8:\n"
     ]
    },
    {
     "data": {
      "image/png": "[encoded data removed]",
      "text/plain": [
       "<Figure size 432x108 with 4 Axes>"
      ]
     },
     "metadata": {},
     "output_type": "display_data"
    },
    {
     "name": "stdout",
     "output_type": "stream",
     "text": [
      "Test image 9:\n"
     ]
    },
    {
     "data": {
      "image/png": "[encoded data removed]",
      "text/plain": [
       "<Figure size 432x108 with 4 Axes>"
      ]
     },
     "metadata": {},
     "output_type": "display_data"
    }
   ],
   "source": [
    "#Visualize a few reconstructed images\n",
    "\n",
    "plot_examples = np.arange(10).tolist()\n",
    "save_examples = []\n",
    "\n",
    "for test_ix in plot_examples :\n",
    "    \n",
    "    print(\"Test image \" + str(test_ix) + \":\")\n",
    "    \n",
    "    save_figs = False\n",
    "    if save_examples is not None and test_ix in save_examples :\n",
    "        save_figs = True\n",
    "    \n",
    "    f, (ax1, ax2, ax3, ax4) = plt.subplots(1, 4, figsize=(1.5 * 4, 1.5))\n",
    "\n",
    "    ax1.imshow(x_test[test_ix, :, :, 1], cmap=\"Greys\", vmin=0.0, vmax=1.0, aspect='equal')\n",
    "\n",
    "    plt.sca(ax1)\n",
    "    plt.xticks([], [])\n",
    "    plt.yticks([], [])\n",
    "    \n",
    "    ax2.imshow(image_test[test_ix, :, :, 1], cmap=\"Greys\", vmin=0.0, vmax=1.0, aspect='equal')\n",
    "\n",
    "    plt.sca(ax2)\n",
    "    plt.xticks([], [])\n",
    "    plt.yticks([], [])\n",
    "    \n",
    "    ax3.imshow(importance_scores_test[test_ix, :, :, 0], cmap=\"hot\", vmin=0.0, vmax=np.max(importance_scores_test[test_ix, :, :, 0]), aspect='equal')\n",
    "\n",
    "    plt.sca(ax3)\n",
    "    plt.xticks([], [])\n",
    "    plt.yticks([], [])\n",
    "    \n",
    "    ax4.imshow(x_test[test_ix, :, :, 1], cmap=\"Greys\", vmin=0.0, vmax=1.0, aspect='equal')\n",
    "\n",
    "    plt.sca(ax4)\n",
    "    plt.xticks([], [])\n",
    "    plt.yticks([], [])\n",
    "    \n",
    "    ax4.imshow(importance_scores_test[test_ix, :, :, 0], alpha=0.75, cmap=\"hot\", vmin=0.0, vmax=np.max(importance_scores_test[test_ix, :, :, 0]), aspect='equal')\n",
    "\n",
    "    plt.sca(ax4)\n",
    "    plt.xticks([], [])\n",
    "    plt.yticks([], [])\n",
    "\n",
    "    plt.tight_layout()\n",
    "    \n",
    "    if save_figs :\n",
    "        plt.savefig(model_name + \"_test_ix_\" + str(test_ix) + \".png\", transparent=True, dpi=300)\n",
    "        plt.savefig(model_name + \"_test_ix_\" + str(test_ix) + \".eps\")\n",
    "    \n",
    "    plt.show()\n"
   ]
  }
 ],
 "metadata": {
  "kernelspec": {
   "display_name": "py38_tf2",
   "language": "python",
   "name": "py38_tf2"
  },
  "language_info": {
   "codemirror_mode": {
    "name": "ipython",
    "version": 3
   },
   "file_extension": ".py",
   "mimetype": "text/x-python",
   "name": "python",
   "nbconvert_exporter": "python",
   "pygments_lexer": "ipython3",
   "version": "3.8.12"
  }
 },
 "nbformat": 4,
 "nbformat_minor": 2
}
